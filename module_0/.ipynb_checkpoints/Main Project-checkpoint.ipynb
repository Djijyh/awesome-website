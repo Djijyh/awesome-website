{
 "cells": [
  {
   "cell_type": "code",
   "execution_count": 4,
   "metadata": {},
   "outputs": [],
   "source": [
    "import numpy as np\n",
    "\n",
    "\n",
    "def score_game(game_core):\n",
    "    count_ls = []\n",
    "    np.random.seed(2) # фиксируем seed чтобы было возможно воспроизвести эксперимент.\n",
    "    random_array = np.random.randint(1,101,size=(1000))\n",
    "    for number in random_array:\n",
    "        count_ls.append(game_core(number))\n",
    "    score = int(np.mean(count_ls))\n",
    "    print(f\"Ваш алгоритм угадывает число в среднем за {score} попыток\" )\n",
    "    return(score)\n",
    "        "
   ]
  },
  {
   "cell_type": "code",
   "execution_count": 5,
   "metadata": {},
   "outputs": [],
   "source": [
    "def game_core_main(number):\n",
    "    minimum=1                # минимальное значение случайного числа. Далее эти две переменные понадобятся для вычеисления числа методом дихотомии\n",
    "    maximum=100              # максимальное значение случайного числа\n",
    "    count=0                  # счётчик\n",
    "    current=0                # предпологаемое число\n",
    "    while True:\n",
    "        count+=1\n",
    "        current=(minimum+maximum)//2\n",
    "        if current<number:\n",
    "            minimum=current+1\n",
    "        elif current>number:\n",
    "            maximum=current-1\n",
    "        elif current==number:\n",
    "            return(count)"
   ]
  },
  {
   "cell_type": "code",
   "execution_count": 6,
   "metadata": {},
   "outputs": [
    {
     "name": "stdout",
     "output_type": "stream",
     "text": [
      "Ваш алгоритм угадывает число в среднем за 5 попыток\n"
     ]
    },
    {
     "data": {
      "text/plain": [
       "5"
      ]
     },
     "execution_count": 6,
     "metadata": {},
     "output_type": "execute_result"
    }
   ],
   "source": [
    "score_game(game_core_main)"
   ]
  },
  {
   "cell_type": "code",
   "execution_count": null,
   "metadata": {},
   "outputs": [],
   "source": []
  }
 ],
 "metadata": {
  "kernelspec": {
   "display_name": "Python 3",
   "language": "python",
   "name": "python3"
  },
  "language_info": {
   "codemirror_mode": {
    "name": "ipython",
    "version": 3
   },
   "file_extension": ".py",
   "mimetype": "text/x-python",
   "name": "python",
   "nbconvert_exporter": "python",
   "pygments_lexer": "ipython3",
   "version": "3.8.3"
  }
 },
 "nbformat": 4,
 "nbformat_minor": 4
}
